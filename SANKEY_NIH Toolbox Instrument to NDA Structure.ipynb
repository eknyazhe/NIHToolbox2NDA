{
 "cells": [
  {
   "cell_type": "markdown",
   "metadata": {},
   "source": [
    "NIH Toolbox 2 NDA: Sankey Diagrams for Instrument to Structure Maps from a Crosswalk"
   ]
  },
  {
   "cell_type": "code",
   "execution_count": 1,
   "metadata": {},
   "outputs": [],
   "source": [
    "import pandas as pd\n",
    "import plotly.graph_objects as go\n"
   ]
  },
  {
   "cell_type": "code",
   "execution_count": 8,
   "metadata": {},
   "outputs": [],
   "source": [
    "#specify your crosswalk- take a peak - use the latest crosswalk from the https://github.com/humanconnectome/NIHToolbox2NDA/\n",
    "#e.g. Crosswalk_NIH_Toolbox_2_NDA.csv\n",
    "crosswalkpath=\"/home/petra/UbWinSharedSpace1/ccf-nda-behavioral/PycharmToolbox/Ipad2NDA_withCrosswalk/NIHToolbox2NDA/\"\n",
    "cfile=\"Crosswalk_NIH_Toolbox_2_NDA.csv\"\n",
    "crosswalk=pd.read_csv(crosswalkpath+cfile,header=0,low_memory=False, encoding = \"ISO-8859-1\")\n",
    "#crosswalk.head()"
   ]
  },
  {
   "cell_type": "code",
   "execution_count": 9,
   "metadata": {},
   "outputs": [],
   "source": [
    "#calculate summary stats for the two variables you want to link together...for toolbox data this is relatively easy\n",
    "#because they have mapped many to one.  For other crosswalks, this will probably take some tweaking...\n",
    "#also, youre on your own if you want an 3rd stop along the flow (like domains, perhaps?)  I have only coded this for 2\n",
    "#time points. \n",
    "\n",
    "dfall=pd.DataFrame(crosswalk.groupby(['Inst','nda_structure',]).agg('count')['nda_element'])\n",
    "df=dfall.reset_index()#columns\n",
    "#subset for illustrative purposes\n",
    "#df=df.loc[df.nda_structure.isin(['tlbx_fearanx01','cogcomp01','prang01','dccs01','tlbx_emsup01','flanker01'])].copy()"
   ]
  },
  {
   "cell_type": "code",
   "execution_count": 10,
   "metadata": {
    "scrolled": true
   },
   "outputs": [
    {
     "data": {
      "text/html": [
       "<div>\n",
       "<style scoped>\n",
       "    .dataframe tbody tr th:only-of-type {\n",
       "        vertical-align: middle;\n",
       "    }\n",
       "\n",
       "    .dataframe tbody tr th {\n",
       "        vertical-align: top;\n",
       "    }\n",
       "\n",
       "    .dataframe thead th {\n",
       "        text-align: right;\n",
       "    }\n",
       "</style>\n",
       "<table border=\"1\" class=\"dataframe\">\n",
       "  <thead>\n",
       "    <tr style=\"text-align: right;\">\n",
       "      <th></th>\n",
       "      <th>ID</th>\n",
       "      <th>label</th>\n",
       "    </tr>\n",
       "  </thead>\n",
       "  <tbody>\n",
       "    <tr>\n",
       "      <th>0</th>\n",
       "      <td>0</td>\n",
       "      <td>Anxiety Summary Parent Report (3-7)</td>\n",
       "    </tr>\n",
       "    <tr>\n",
       "      <th>1</th>\n",
       "      <td>1</td>\n",
       "      <td>Cognition Composite Scores</td>\n",
       "    </tr>\n",
       "    <tr>\n",
       "      <th>2</th>\n",
       "      <td>2</td>\n",
       "      <td>NIH Toolbox 2-Minute Walk Endurance Test Age 3...</td>\n",
       "    </tr>\n",
       "    <tr>\n",
       "      <th>3</th>\n",
       "      <td>3</td>\n",
       "      <td>NIH Toolbox 4-Meter Walk Gait Speed Test Age 7...</td>\n",
       "    </tr>\n",
       "    <tr>\n",
       "      <th>4</th>\n",
       "      <td>4</td>\n",
       "      <td>NIH Toolbox 9-Hole Pegboard Dexterity Test Age...</td>\n",
       "    </tr>\n",
       "    <tr>\n",
       "      <th>5</th>\n",
       "      <td>5</td>\n",
       "      <td>NIH Toolbox Anger FF Ages 8-17 v2.0</td>\n",
       "    </tr>\n",
       "    <tr>\n",
       "      <th>6</th>\n",
       "      <td>6</td>\n",
       "      <td>NIH Toolbox Anger Parent Report CAT Ages 8-12 ...</td>\n",
       "    </tr>\n",
       "    <tr>\n",
       "      <th>7</th>\n",
       "      <td>7</td>\n",
       "      <td>NIH Toolbox Anger Parent Report FF Ages 3-7 v2.0</td>\n",
       "    </tr>\n",
       "    <tr>\n",
       "      <th>8</th>\n",
       "      <td>8</td>\n",
       "      <td>NIH Toolbox Anger-Affect CAT Age 18+ v2.0</td>\n",
       "    </tr>\n",
       "    <tr>\n",
       "      <th>9</th>\n",
       "      <td>9</td>\n",
       "      <td>NIH Toolbox Anger-Hostility FF Age 18+ v2.0</td>\n",
       "    </tr>\n",
       "    <tr>\n",
       "      <th>10</th>\n",
       "      <td>10</td>\n",
       "      <td>NIH Toolbox Anger-Physical Aggression FF Age 1...</td>\n",
       "    </tr>\n",
       "    <tr>\n",
       "      <th>11</th>\n",
       "      <td>11</td>\n",
       "      <td>NIH Toolbox Dimensional Change Card Sort Test ...</td>\n",
       "    </tr>\n",
       "    <tr>\n",
       "      <th>12</th>\n",
       "      <td>12</td>\n",
       "      <td>NIH Toolbox Dimensional Change Card Sort Test ...</td>\n",
       "    </tr>\n",
       "    <tr>\n",
       "      <th>13</th>\n",
       "      <td>13</td>\n",
       "      <td>NIH Toolbox Dimensional Change Card Sort Test ...</td>\n",
       "    </tr>\n",
       "    <tr>\n",
       "      <th>14</th>\n",
       "      <td>14</td>\n",
       "      <td>NIH Toolbox Emotional Support FF Age 18+ v2.0</td>\n",
       "    </tr>\n",
       "    <tr>\n",
       "      <th>15</th>\n",
       "      <td>15</td>\n",
       "      <td>NIH Toolbox Emotional Support FF Ages 8-17 v2.0</td>\n",
       "    </tr>\n",
       "    <tr>\n",
       "      <th>16</th>\n",
       "      <td>16</td>\n",
       "      <td>NIH Toolbox Empathic Behaviors Parent Report C...</td>\n",
       "    </tr>\n",
       "    <tr>\n",
       "      <th>17</th>\n",
       "      <td>17</td>\n",
       "      <td>NIH Toolbox Fear FF Ages 8-17 v2.0</td>\n",
       "    </tr>\n",
       "    <tr>\n",
       "      <th>18</th>\n",
       "      <td>18</td>\n",
       "      <td>NIH Toolbox Fear Parent Report CAT Ages 8-12 v2.0</td>\n",
       "    </tr>\n",
       "    <tr>\n",
       "      <th>19</th>\n",
       "      <td>19</td>\n",
       "      <td>NIH Toolbox Fear-Affect CAT Age 18+ v2.0</td>\n",
       "    </tr>\n",
       "    <tr>\n",
       "      <th>20</th>\n",
       "      <td>20</td>\n",
       "      <td>NIH Toolbox Fear-Over Anxious Parent Report FF...</td>\n",
       "    </tr>\n",
       "    <tr>\n",
       "      <th>21</th>\n",
       "      <td>21</td>\n",
       "      <td>NIH Toolbox Fear-Separation Anxiety Parent Rep...</td>\n",
       "    </tr>\n",
       "    <tr>\n",
       "      <th>22</th>\n",
       "      <td>22</td>\n",
       "      <td>NIH Toolbox Fear-Somatic Arousal FF Age 18+ v2.0</td>\n",
       "    </tr>\n",
       "    <tr>\n",
       "      <th>23</th>\n",
       "      <td>23</td>\n",
       "      <td>NIH Toolbox Flanker Inhibitory Control and Att...</td>\n",
       "    </tr>\n",
       "    <tr>\n",
       "      <th>24</th>\n",
       "      <td>24</td>\n",
       "      <td>NIH Toolbox Flanker Inhibitory Control and Att...</td>\n",
       "    </tr>\n",
       "    <tr>\n",
       "      <th>25</th>\n",
       "      <td>25</td>\n",
       "      <td>NIH Toolbox Flanker Inhibitory Control and Att...</td>\n",
       "    </tr>\n",
       "    <tr>\n",
       "      <th>26</th>\n",
       "      <td>26</td>\n",
       "      <td>NIH Toolbox Friendship FF Age 18+ v2.0</td>\n",
       "    </tr>\n",
       "    <tr>\n",
       "      <th>27</th>\n",
       "      <td>27</td>\n",
       "      <td>NIH Toolbox Friendship FF Ages 8-17 v2.0</td>\n",
       "    </tr>\n",
       "    <tr>\n",
       "      <th>28</th>\n",
       "      <td>28</td>\n",
       "      <td>NIH Toolbox General Life Satisfaction CAT Age ...</td>\n",
       "    </tr>\n",
       "    <tr>\n",
       "      <th>29</th>\n",
       "      <td>29</td>\n",
       "      <td>NIH Toolbox General Life Satisfaction CAT Ages...</td>\n",
       "    </tr>\n",
       "    <tr>\n",
       "      <th>...</th>\n",
       "      <td>...</td>\n",
       "      <td>...</td>\n",
       "    </tr>\n",
       "    <tr>\n",
       "      <th>95</th>\n",
       "      <td>95</td>\n",
       "      <td>Psychological Well Being Summary (8-12)</td>\n",
       "    </tr>\n",
       "    <tr>\n",
       "      <th>96</th>\n",
       "      <td>96</td>\n",
       "      <td>Social Satisfaction Summary (13-17)</td>\n",
       "    </tr>\n",
       "    <tr>\n",
       "      <th>97</th>\n",
       "      <td>97</td>\n",
       "      <td>Social Satisfaction Summary (18+)</td>\n",
       "    </tr>\n",
       "    <tr>\n",
       "      <th>98</th>\n",
       "      <td>98</td>\n",
       "      <td>Social Satisfaction Summary (8-12)</td>\n",
       "    </tr>\n",
       "    <tr>\n",
       "      <th>99</th>\n",
       "      <td>99</td>\n",
       "      <td>tlbx_fearanx01</td>\n",
       "    </tr>\n",
       "    <tr>\n",
       "      <th>100</th>\n",
       "      <td>100</td>\n",
       "      <td>cogcomp01</td>\n",
       "    </tr>\n",
       "    <tr>\n",
       "      <th>101</th>\n",
       "      <td>101</td>\n",
       "      <td>tlbx_motor01</td>\n",
       "    </tr>\n",
       "    <tr>\n",
       "      <th>102</th>\n",
       "      <td>102</td>\n",
       "      <td>prang01</td>\n",
       "    </tr>\n",
       "    <tr>\n",
       "      <th>103</th>\n",
       "      <td>103</td>\n",
       "      <td>dccs01</td>\n",
       "    </tr>\n",
       "    <tr>\n",
       "      <th>104</th>\n",
       "      <td>104</td>\n",
       "      <td>tlbx_emsup01</td>\n",
       "    </tr>\n",
       "    <tr>\n",
       "      <th>105</th>\n",
       "      <td>105</td>\n",
       "      <td>tlbx_empbeh01</td>\n",
       "    </tr>\n",
       "    <tr>\n",
       "      <th>106</th>\n",
       "      <td>106</td>\n",
       "      <td>preda01</td>\n",
       "    </tr>\n",
       "    <tr>\n",
       "      <th>107</th>\n",
       "      <td>107</td>\n",
       "      <td>flanker01</td>\n",
       "    </tr>\n",
       "    <tr>\n",
       "      <th>108</th>\n",
       "      <td>108</td>\n",
       "      <td>tlbx_friend01</td>\n",
       "    </tr>\n",
       "    <tr>\n",
       "      <th>109</th>\n",
       "      <td>109</td>\n",
       "      <td>tlbx_wellbeing01</td>\n",
       "    </tr>\n",
       "    <tr>\n",
       "      <th>110</th>\n",
       "      <td>110</td>\n",
       "      <td>lswmt01</td>\n",
       "    </tr>\n",
       "    <tr>\n",
       "      <th>111</th>\n",
       "      <td>111</td>\n",
       "      <td>prsi01</td>\n",
       "    </tr>\n",
       "    <tr>\n",
       "      <th>112</th>\n",
       "      <td>112</td>\n",
       "      <td>tlbx_sensation01</td>\n",
       "    </tr>\n",
       "    <tr>\n",
       "      <th>113</th>\n",
       "      <td>113</td>\n",
       "      <td>orrt01</td>\n",
       "    </tr>\n",
       "    <tr>\n",
       "      <th>114</th>\n",
       "      <td>114</td>\n",
       "      <td>pcps01</td>\n",
       "    </tr>\n",
       "    <tr>\n",
       "      <th>115</th>\n",
       "      <td>115</td>\n",
       "      <td>tlbx_rej01</td>\n",
       "    </tr>\n",
       "    <tr>\n",
       "      <th>116</th>\n",
       "      <td>116</td>\n",
       "      <td>tlbx_perhost01</td>\n",
       "    </tr>\n",
       "    <tr>\n",
       "      <th>117</th>\n",
       "      <td>117</td>\n",
       "      <td>pss01</td>\n",
       "    </tr>\n",
       "    <tr>\n",
       "      <th>118</th>\n",
       "      <td>118</td>\n",
       "      <td>psm01</td>\n",
       "    </tr>\n",
       "    <tr>\n",
       "      <th>119</th>\n",
       "      <td>119</td>\n",
       "      <td>tpvt01</td>\n",
       "    </tr>\n",
       "    <tr>\n",
       "      <th>120</th>\n",
       "      <td>120</td>\n",
       "      <td>tlbx_socwit01</td>\n",
       "    </tr>\n",
       "    <tr>\n",
       "      <th>121</th>\n",
       "      <td>121</td>\n",
       "      <td>predd01</td>\n",
       "    </tr>\n",
       "    <tr>\n",
       "      <th>122</th>\n",
       "      <td>122</td>\n",
       "      <td>tlbx_sadness01</td>\n",
       "    </tr>\n",
       "    <tr>\n",
       "      <th>123</th>\n",
       "      <td>123</td>\n",
       "      <td>self_effic01</td>\n",
       "    </tr>\n",
       "    <tr>\n",
       "      <th>124</th>\n",
       "      <td>124</td>\n",
       "      <td>promisgl01</td>\n",
       "    </tr>\n",
       "  </tbody>\n",
       "</table>\n",
       "<p>125 rows × 2 columns</p>\n",
       "</div>"
      ],
      "text/plain": [
       "      ID                                              label\n",
       "0      0                Anxiety Summary Parent Report (3-7)\n",
       "1      1                         Cognition Composite Scores\n",
       "2      2  NIH Toolbox 2-Minute Walk Endurance Test Age 3...\n",
       "3      3  NIH Toolbox 4-Meter Walk Gait Speed Test Age 7...\n",
       "4      4  NIH Toolbox 9-Hole Pegboard Dexterity Test Age...\n",
       "5      5                NIH Toolbox Anger FF Ages 8-17 v2.0\n",
       "6      6  NIH Toolbox Anger Parent Report CAT Ages 8-12 ...\n",
       "7      7   NIH Toolbox Anger Parent Report FF Ages 3-7 v2.0\n",
       "8      8          NIH Toolbox Anger-Affect CAT Age 18+ v2.0\n",
       "9      9        NIH Toolbox Anger-Hostility FF Age 18+ v2.0\n",
       "10    10  NIH Toolbox Anger-Physical Aggression FF Age 1...\n",
       "11    11  NIH Toolbox Dimensional Change Card Sort Test ...\n",
       "12    12  NIH Toolbox Dimensional Change Card Sort Test ...\n",
       "13    13  NIH Toolbox Dimensional Change Card Sort Test ...\n",
       "14    14      NIH Toolbox Emotional Support FF Age 18+ v2.0\n",
       "15    15    NIH Toolbox Emotional Support FF Ages 8-17 v2.0\n",
       "16    16  NIH Toolbox Empathic Behaviors Parent Report C...\n",
       "17    17                 NIH Toolbox Fear FF Ages 8-17 v2.0\n",
       "18    18  NIH Toolbox Fear Parent Report CAT Ages 8-12 v2.0\n",
       "19    19           NIH Toolbox Fear-Affect CAT Age 18+ v2.0\n",
       "20    20  NIH Toolbox Fear-Over Anxious Parent Report FF...\n",
       "21    21  NIH Toolbox Fear-Separation Anxiety Parent Rep...\n",
       "22    22   NIH Toolbox Fear-Somatic Arousal FF Age 18+ v2.0\n",
       "23    23  NIH Toolbox Flanker Inhibitory Control and Att...\n",
       "24    24  NIH Toolbox Flanker Inhibitory Control and Att...\n",
       "25    25  NIH Toolbox Flanker Inhibitory Control and Att...\n",
       "26    26             NIH Toolbox Friendship FF Age 18+ v2.0\n",
       "27    27           NIH Toolbox Friendship FF Ages 8-17 v2.0\n",
       "28    28  NIH Toolbox General Life Satisfaction CAT Age ...\n",
       "29    29  NIH Toolbox General Life Satisfaction CAT Ages...\n",
       "..   ...                                                ...\n",
       "95    95            Psychological Well Being Summary (8-12)\n",
       "96    96                Social Satisfaction Summary (13-17)\n",
       "97    97                  Social Satisfaction Summary (18+)\n",
       "98    98                 Social Satisfaction Summary (8-12)\n",
       "99    99                                     tlbx_fearanx01\n",
       "100  100                                          cogcomp01\n",
       "101  101                                       tlbx_motor01\n",
       "102  102                                            prang01\n",
       "103  103                                             dccs01\n",
       "104  104                                       tlbx_emsup01\n",
       "105  105                                      tlbx_empbeh01\n",
       "106  106                                            preda01\n",
       "107  107                                          flanker01\n",
       "108  108                                      tlbx_friend01\n",
       "109  109                                   tlbx_wellbeing01\n",
       "110  110                                            lswmt01\n",
       "111  111                                             prsi01\n",
       "112  112                                   tlbx_sensation01\n",
       "113  113                                             orrt01\n",
       "114  114                                             pcps01\n",
       "115  115                                         tlbx_rej01\n",
       "116  116                                     tlbx_perhost01\n",
       "117  117                                              pss01\n",
       "118  118                                              psm01\n",
       "119  119                                             tpvt01\n",
       "120  120                                      tlbx_socwit01\n",
       "121  121                                            predd01\n",
       "122  122                                     tlbx_sadness01\n",
       "123  123                                       self_effic01\n",
       "124  124                                         promisgl01\n",
       "\n",
       "[125 rows x 2 columns]"
      ]
     },
     "execution_count": 10,
     "metadata": {},
     "output_type": "execute_result"
    }
   ],
   "source": [
    "#df.columns\n",
    "nodes=pd.DataFrame(list(df.Inst.unique())+list(df.nda_structure.unique())).reset_index().rename(columns={'index':'ID',0:'label'})\n",
    "mapping=dict(zip(nodes.label,nodes.ID))\n",
    "links=df.copy()\n",
    "links=links.replace({'Inst': mapping,'nda_structure':mapping}) \n",
    "#type(df.Inst.unique())\n",
    "links.head()\n",
    "nodes"
   ]
  },
  {
   "cell_type": "code",
   "execution_count": null,
   "metadata": {},
   "outputs": [],
   "source": []
  },
  {
   "cell_type": "code",
   "execution_count": 12,
   "metadata": {
    "scrolled": true
   },
   "outputs": [
    {
     "data": {
      "application/vnd.plotly.v1+json": {
       "config": {
        "plotlyServerURL": "https://plot.ly"
       },
       "data": [
        {
         "link": {
          "source": [
           0,
           1,
           2,
           3,
           4,
           5,
           6,
           7,
           8,
           9,
           10,
           11,
           12,
           13,
           14,
           15,
           16,
           17,
           18,
           19,
           20,
           21,
           22,
           23,
           24,
           25,
           26,
           27,
           28,
           29,
           30,
           31,
           32,
           33,
           34,
           35,
           36,
           37,
           38,
           39,
           40,
           41,
           42,
           43,
           44,
           45,
           46,
           47,
           48,
           49,
           50,
           51,
           52,
           53,
           54,
           55,
           56,
           57,
           58,
           59,
           60,
           61,
           62,
           63,
           64,
           65,
           66,
           67,
           68,
           69,
           70,
           71,
           72,
           73,
           74,
           75,
           76,
           77,
           78,
           79,
           80,
           81,
           82,
           83,
           84,
           85,
           86,
           87,
           88,
           89,
           90,
           91,
           92,
           93,
           94,
           95,
           96,
           97,
           98
          ],
          "target": [
           99,
           100,
           101,
           101,
           101,
           102,
           102,
           102,
           102,
           102,
           102,
           103,
           103,
           103,
           104,
           104,
           105,
           99,
           99,
           106,
           99,
           99,
           106,
           107,
           107,
           107,
           108,
           108,
           109,
           109,
           109,
           109,
           109,
           101,
           104,
           110,
           110,
           111,
           111,
           109,
           112,
           112,
           113,
           113,
           112,
           112,
           114,
           114,
           115,
           116,
           116,
           115,
           115,
           117,
           117,
           117,
           118,
           118,
           118,
           118,
           118,
           118,
           119,
           119,
           109,
           109,
           109,
           109,
           109,
           109,
           120,
           121,
           122,
           122,
           122,
           123,
           123,
           123,
           123,
           120,
           101,
           112,
           112,
           112,
           102,
           102,
           102,
           105,
           109,
           102,
           102,
           109,
           109,
           109,
           109,
           109,
           124,
           124,
           124
          ],
          "value": [
           5,
           17,
           13,
           9,
           15,
           15,
           20,
           19,
           31,
           14,
           14,
           52,
           62,
           52,
           17,
           17,
           20,
           19,
           20,
           38,
           16,
           17,
           15,
           38,
           54,
           34,
           17,
           16,
           19,
           20,
           19,
           15,
           13,
           15,
           17,
           37,
           49,
           14,
           17,
           25,
           19,
           39,
           230,
           248,
           9,
           27,
           111,
           46,
           17,
           17,
           15,
           17,
           15,
           19,
           21,
           20,
           16,
           17,
           15,
           15,
           12,
           16,
           252,
           292,
           28,
           27,
           23,
           19,
           23,
           26,
           12,
           37,
           18,
           21,
           17,
           19,
           20,
           20,
           20,
           12,
           5,
           112,
           65,
           44,
           5,
           5,
           5,
           7,
           6,
           6,
           6,
           5,
           5,
           5,
           5,
           5,
           6,
           5,
           5
          ]
         },
         "node": {
          "label": [
           "Anxiety Summary Parent Report (3-7)",
           "Cognition Composite Scores",
           "NIH Toolbox 2-Minute Walk Endurance Test Age 3+ v2.0",
           "NIH Toolbox 4-Meter Walk Gait Speed Test Age 7+ v2.0",
           "NIH Toolbox 9-Hole Pegboard Dexterity Test Age 3+ v2.0",
           "NIH Toolbox Anger FF Ages 8-17 v2.0",
           "NIH Toolbox Anger Parent Report CAT Ages 8-12 v2.0",
           "NIH Toolbox Anger Parent Report FF Ages 3-7 v2.0",
           "NIH Toolbox Anger-Affect CAT Age 18+ v2.0",
           "NIH Toolbox Anger-Hostility FF Age 18+ v2.0",
           "NIH Toolbox Anger-Physical Aggression FF Age 18+ v2.0",
           "NIH Toolbox Dimensional Change Card Sort Test Age 12+ v2.1",
           "NIH Toolbox Dimensional Change Card Sort Test Ages 3-7 v2.1",
           "NIH Toolbox Dimensional Change Card Sort Test Ages 8-11 v2.1",
           "NIH Toolbox Emotional Support FF Age 18+ v2.0",
           "NIH Toolbox Emotional Support FF Ages 8-17 v2.0",
           "NIH Toolbox Empathic Behaviors Parent Report CAT Ages 3-12 v2.0",
           "NIH Toolbox Fear FF Ages 8-17 v2.0",
           "NIH Toolbox Fear Parent Report CAT Ages 8-12 v2.0",
           "NIH Toolbox Fear-Affect CAT Age 18+ v2.0",
           "NIH Toolbox Fear-Over Anxious Parent Report FF Ages 3-7 v2.0",
           "NIH Toolbox Fear-Separation Anxiety Parent Report FF Ages 3-7 v2.0",
           "NIH Toolbox Fear-Somatic Arousal FF Age 18+ v2.0",
           "NIH Toolbox Flanker Inhibitory Control and Attention Test Age 12+ v2.1",
           "NIH Toolbox Flanker Inhibitory Control and Attention Test Ages 3-7 v2.1",
           "NIH Toolbox Flanker Inhibitory Control and Attention Test Ages 8-11 v2.1",
           "NIH Toolbox Friendship FF Age 18+ v2.0",
           "NIH Toolbox Friendship FF Ages 8-17 v2.0",
           "NIH Toolbox General Life Satisfaction CAT Age 18+ v2.0",
           "NIH Toolbox General Life Satisfaction CAT Ages 13-17 v2.0",
           "NIH Toolbox General Life Satisfaction FF Ages 13-17 v2.0",
           "NIH Toolbox General Life Satisfaction FF Ages 8-12 v2.0",
           "NIH Toolbox General Life Satisfaction Parent Report FF Ages 3-12 v2.0",
           "NIH Toolbox Grip Strength Test Age 3+ v2.0",
           "NIH Toolbox Instrumental Support FF Age 18+ v2.0",
           "NIH Toolbox List Sorting Working Memory Test Age 7+ v2.1",
           "NIH Toolbox List Sorting Working Memory Test Ages 3-6 v2.1",
           "NIH Toolbox Loneliness FF Age 18+ v2.0",
           "NIH Toolbox Loneliness FF Ages 8-17 v2.0",
           "NIH Toolbox Meaning and Purpose CAT Age 18+ v2.0",
           "NIH Toolbox Odor Identification Test Age 10+ v2.0",
           "NIH Toolbox Odor Identification Test Ages 3-9 v2.0",
           "NIH Toolbox Oral Reading Recognition Test Age 3+ v2.0",
           "NIH Toolbox Oral Reading Recognition Test Age 3+ v2.1",
           "NIH Toolbox Pain Intensity FF Age 18+ v2.0",
           "NIH Toolbox Pain Interference CAT Age 18+ v2.0",
           "NIH Toolbox Pattern Comparison Processing Speed Test Age 7+ v2.1",
           "NIH Toolbox Pattern Comparison Processing Speed Test Ages 3 - 6 v2.1",
           "NIH Toolbox Peer Rejection Parent Report FF Ages 3-12 v2.0",
           "NIH Toolbox Perceived Hostility FF Age 18+ v2.0",
           "NIH Toolbox Perceived Hostility FF Ages 8-17 v2.0",
           "NIH Toolbox Perceived Rejection FF Age 18+ v2.0",
           "NIH Toolbox Perceived Rejection FF Ages 8-17 v2.0",
           "NIH Toolbox Perceived Stress FF Age 18+ v2.0",
           "NIH Toolbox Perceived Stress FF Ages 13-17 v2.0",
           "NIH Toolbox Perceived Stress Parent Report CAT Ages 8-12 v2.0",
           "NIH Toolbox Picture Sequence Memory Test Age 7 Form A v2.1",
           "NIH Toolbox Picture Sequence Memory Test Age 8+ Form A v2.1",
           "NIH Toolbox Picture Sequence Memory Test Age 8+ Form B v2.1",
           "NIH Toolbox Picture Sequence Memory Test Age 8+ Form C v2.1",
           "NIH Toolbox Picture Sequence Memory Test Ages 3-4 Form A v2.1",
           "NIH Toolbox Picture Sequence Memory Test Ages 5-6 Form A v2.1",
           "NIH Toolbox Picture Vocabulary Test Age 3+ v2.0",
           "NIH Toolbox Picture Vocabulary Test Age 3+ v2.1",
           "NIH Toolbox Positive Affect CAT Age 18+ v2.0",
           "NIH Toolbox Positive Affect CAT Ages 13-17 v2.0",
           "NIH Toolbox Positive Affect FF Ages 13-17 v2.0",
           "NIH Toolbox Positive Affect FF Ages 8-12 v2.0",
           "NIH Toolbox Positive Affect Parent Report CAT Ages 3-7 v2.0",
           "NIH Toolbox Positive Affect Parent Report CAT Ages 8-12 v2.0",
           "NIH Toolbox Positive Peer Interaction Parent Report FF Ages 3-12 v2.0",
           "NIH Toolbox Sadness CAT Age 18+ v2.0",
           "NIH Toolbox Sadness FF Ages 8-17 v2.0",
           "NIH Toolbox Sadness Parent Report CAT Ages 8-12 v2.0",
           "NIH Toolbox Sadness Parent Report FF Ages 3-7 v2.0",
           "NIH Toolbox Self-Efficacy CAT Age 18+ v2.0",
           "NIH Toolbox Self-Efficacy CAT Ages 13-17 v2.0",
           "NIH Toolbox Self-Efficacy CAT Ages 8-12 v2.0",
           "NIH Toolbox Self-Efficacy Parent Report CAT Ages 8-12 v2.0",
           "NIH Toolbox Social Withdrawal Parent Report FF Ages 3-12 v2.0",
           "NIH Toolbox Standing Balance Test Age 7+ v2.0",
           "NIH Toolbox Visual Acuity Test Age 8+ v2.0",
           "NIH Toolbox Visual Acuity Test Ages 3-7 v2.0",
           "NIH Toolbox Words-In-Noise Test Age 6+ v2.1",
           "Negative Affect Summary (13-17)",
           "Negative Affect Summary (18+)",
           "Negative Affect Summary (8-12)",
           "Negative Peer Relations Parent Report Summary (8-12)",
           "Negative Psychosocial Functioning Parent Report Summary (3-7)",
           "Negative Social Perception Summary (13-17)",
           "Negative Social Perception Summary (8-12)",
           "Psychological Well Being Parent Report Summary (3-7)",
           "Psychological Well Being Parent Report Summary (8-12)",
           "Psychological Well Being Summary (13-17)",
           "Psychological Well Being Summary (18+)",
           "Psychological Well Being Summary (8-12)",
           "Social Satisfaction Summary (13-17)",
           "Social Satisfaction Summary (18+)",
           "Social Satisfaction Summary (8-12)",
           "tlbx_fearanx01",
           "cogcomp01",
           "tlbx_motor01",
           "prang01",
           "dccs01",
           "tlbx_emsup01",
           "tlbx_empbeh01",
           "preda01",
           "flanker01",
           "tlbx_friend01",
           "tlbx_wellbeing01",
           "lswmt01",
           "prsi01",
           "tlbx_sensation01",
           "orrt01",
           "pcps01",
           "tlbx_rej01",
           "tlbx_perhost01",
           "pss01",
           "psm01",
           "tpvt01",
           "tlbx_socwit01",
           "predd01",
           "tlbx_sadness01",
           "self_effic01",
           "promisgl01"
          ],
          "line": {
           "color": "black",
           "width": 0.5
          },
          "pad": 15,
          "thickness": 20
         },
         "type": "sankey"
        }
       ],
       "layout": {
        "font": {
         "size": 10
        },
        "height": 1500,
        "template": {
         "data": {
          "bar": [
           {
            "error_x": {
             "color": "#2a3f5f"
            },
            "error_y": {
             "color": "#2a3f5f"
            },
            "marker": {
             "line": {
              "color": "#E5ECF6",
              "width": 0.5
             }
            },
            "type": "bar"
           }
          ],
          "barpolar": [
           {
            "marker": {
             "line": {
              "color": "#E5ECF6",
              "width": 0.5
             }
            },
            "type": "barpolar"
           }
          ],
          "carpet": [
           {
            "aaxis": {
             "endlinecolor": "#2a3f5f",
             "gridcolor": "white",
             "linecolor": "white",
             "minorgridcolor": "white",
             "startlinecolor": "#2a3f5f"
            },
            "baxis": {
             "endlinecolor": "#2a3f5f",
             "gridcolor": "white",
             "linecolor": "white",
             "minorgridcolor": "white",
             "startlinecolor": "#2a3f5f"
            },
            "type": "carpet"
           }
          ],
          "choropleth": [
           {
            "colorbar": {
             "outlinewidth": 0,
             "ticks": ""
            },
            "type": "choropleth"
           }
          ],
          "contour": [
           {
            "colorbar": {
             "outlinewidth": 0,
             "ticks": ""
            },
            "colorscale": [
             [
              0,
              "#0d0887"
             ],
             [
              0.1111111111111111,
              "#46039f"
             ],
             [
              0.2222222222222222,
              "#7201a8"
             ],
             [
              0.3333333333333333,
              "#9c179e"
             ],
             [
              0.4444444444444444,
              "#bd3786"
             ],
             [
              0.5555555555555556,
              "#d8576b"
             ],
             [
              0.6666666666666666,
              "#ed7953"
             ],
             [
              0.7777777777777778,
              "#fb9f3a"
             ],
             [
              0.8888888888888888,
              "#fdca26"
             ],
             [
              1,
              "#f0f921"
             ]
            ],
            "type": "contour"
           }
          ],
          "contourcarpet": [
           {
            "colorbar": {
             "outlinewidth": 0,
             "ticks": ""
            },
            "type": "contourcarpet"
           }
          ],
          "heatmap": [
           {
            "colorbar": {
             "outlinewidth": 0,
             "ticks": ""
            },
            "colorscale": [
             [
              0,
              "#0d0887"
             ],
             [
              0.1111111111111111,
              "#46039f"
             ],
             [
              0.2222222222222222,
              "#7201a8"
             ],
             [
              0.3333333333333333,
              "#9c179e"
             ],
             [
              0.4444444444444444,
              "#bd3786"
             ],
             [
              0.5555555555555556,
              "#d8576b"
             ],
             [
              0.6666666666666666,
              "#ed7953"
             ],
             [
              0.7777777777777778,
              "#fb9f3a"
             ],
             [
              0.8888888888888888,
              "#fdca26"
             ],
             [
              1,
              "#f0f921"
             ]
            ],
            "type": "heatmap"
           }
          ],
          "heatmapgl": [
           {
            "colorbar": {
             "outlinewidth": 0,
             "ticks": ""
            },
            "colorscale": [
             [
              0,
              "#0d0887"
             ],
             [
              0.1111111111111111,
              "#46039f"
             ],
             [
              0.2222222222222222,
              "#7201a8"
             ],
             [
              0.3333333333333333,
              "#9c179e"
             ],
             [
              0.4444444444444444,
              "#bd3786"
             ],
             [
              0.5555555555555556,
              "#d8576b"
             ],
             [
              0.6666666666666666,
              "#ed7953"
             ],
             [
              0.7777777777777778,
              "#fb9f3a"
             ],
             [
              0.8888888888888888,
              "#fdca26"
             ],
             [
              1,
              "#f0f921"
             ]
            ],
            "type": "heatmapgl"
           }
          ],
          "histogram": [
           {
            "marker": {
             "colorbar": {
              "outlinewidth": 0,
              "ticks": ""
             }
            },
            "type": "histogram"
           }
          ],
          "histogram2d": [
           {
            "colorbar": {
             "outlinewidth": 0,
             "ticks": ""
            },
            "colorscale": [
             [
              0,
              "#0d0887"
             ],
             [
              0.1111111111111111,
              "#46039f"
             ],
             [
              0.2222222222222222,
              "#7201a8"
             ],
             [
              0.3333333333333333,
              "#9c179e"
             ],
             [
              0.4444444444444444,
              "#bd3786"
             ],
             [
              0.5555555555555556,
              "#d8576b"
             ],
             [
              0.6666666666666666,
              "#ed7953"
             ],
             [
              0.7777777777777778,
              "#fb9f3a"
             ],
             [
              0.8888888888888888,
              "#fdca26"
             ],
             [
              1,
              "#f0f921"
             ]
            ],
            "type": "histogram2d"
           }
          ],
          "histogram2dcontour": [
           {
            "colorbar": {
             "outlinewidth": 0,
             "ticks": ""
            },
            "colorscale": [
             [
              0,
              "#0d0887"
             ],
             [
              0.1111111111111111,
              "#46039f"
             ],
             [
              0.2222222222222222,
              "#7201a8"
             ],
             [
              0.3333333333333333,
              "#9c179e"
             ],
             [
              0.4444444444444444,
              "#bd3786"
             ],
             [
              0.5555555555555556,
              "#d8576b"
             ],
             [
              0.6666666666666666,
              "#ed7953"
             ],
             [
              0.7777777777777778,
              "#fb9f3a"
             ],
             [
              0.8888888888888888,
              "#fdca26"
             ],
             [
              1,
              "#f0f921"
             ]
            ],
            "type": "histogram2dcontour"
           }
          ],
          "mesh3d": [
           {
            "colorbar": {
             "outlinewidth": 0,
             "ticks": ""
            },
            "type": "mesh3d"
           }
          ],
          "parcoords": [
           {
            "line": {
             "colorbar": {
              "outlinewidth": 0,
              "ticks": ""
             }
            },
            "type": "parcoords"
           }
          ],
          "pie": [
           {
            "automargin": true,
            "type": "pie"
           }
          ],
          "scatter": [
           {
            "marker": {
             "colorbar": {
              "outlinewidth": 0,
              "ticks": ""
             }
            },
            "type": "scatter"
           }
          ],
          "scatter3d": [
           {
            "line": {
             "colorbar": {
              "outlinewidth": 0,
              "ticks": ""
             }
            },
            "marker": {
             "colorbar": {
              "outlinewidth": 0,
              "ticks": ""
             }
            },
            "type": "scatter3d"
           }
          ],
          "scattercarpet": [
           {
            "marker": {
             "colorbar": {
              "outlinewidth": 0,
              "ticks": ""
             }
            },
            "type": "scattercarpet"
           }
          ],
          "scattergeo": [
           {
            "marker": {
             "colorbar": {
              "outlinewidth": 0,
              "ticks": ""
             }
            },
            "type": "scattergeo"
           }
          ],
          "scattergl": [
           {
            "marker": {
             "colorbar": {
              "outlinewidth": 0,
              "ticks": ""
             }
            },
            "type": "scattergl"
           }
          ],
          "scattermapbox": [
           {
            "marker": {
             "colorbar": {
              "outlinewidth": 0,
              "ticks": ""
             }
            },
            "type": "scattermapbox"
           }
          ],
          "scatterpolar": [
           {
            "marker": {
             "colorbar": {
              "outlinewidth": 0,
              "ticks": ""
             }
            },
            "type": "scatterpolar"
           }
          ],
          "scatterpolargl": [
           {
            "marker": {
             "colorbar": {
              "outlinewidth": 0,
              "ticks": ""
             }
            },
            "type": "scatterpolargl"
           }
          ],
          "scatterternary": [
           {
            "marker": {
             "colorbar": {
              "outlinewidth": 0,
              "ticks": ""
             }
            },
            "type": "scatterternary"
           }
          ],
          "surface": [
           {
            "colorbar": {
             "outlinewidth": 0,
             "ticks": ""
            },
            "colorscale": [
             [
              0,
              "#0d0887"
             ],
             [
              0.1111111111111111,
              "#46039f"
             ],
             [
              0.2222222222222222,
              "#7201a8"
             ],
             [
              0.3333333333333333,
              "#9c179e"
             ],
             [
              0.4444444444444444,
              "#bd3786"
             ],
             [
              0.5555555555555556,
              "#d8576b"
             ],
             [
              0.6666666666666666,
              "#ed7953"
             ],
             [
              0.7777777777777778,
              "#fb9f3a"
             ],
             [
              0.8888888888888888,
              "#fdca26"
             ],
             [
              1,
              "#f0f921"
             ]
            ],
            "type": "surface"
           }
          ],
          "table": [
           {
            "cells": {
             "fill": {
              "color": "#EBF0F8"
             },
             "line": {
              "color": "white"
             }
            },
            "header": {
             "fill": {
              "color": "#C8D4E3"
             },
             "line": {
              "color": "white"
             }
            },
            "type": "table"
           }
          ]
         },
         "layout": {
          "annotationdefaults": {
           "arrowcolor": "#2a3f5f",
           "arrowhead": 0,
           "arrowwidth": 1
          },
          "coloraxis": {
           "colorbar": {
            "outlinewidth": 0,
            "ticks": ""
           }
          },
          "colorscale": {
           "diverging": [
            [
             0,
             "#8e0152"
            ],
            [
             0.1,
             "#c51b7d"
            ],
            [
             0.2,
             "#de77ae"
            ],
            [
             0.3,
             "#f1b6da"
            ],
            [
             0.4,
             "#fde0ef"
            ],
            [
             0.5,
             "#f7f7f7"
            ],
            [
             0.6,
             "#e6f5d0"
            ],
            [
             0.7,
             "#b8e186"
            ],
            [
             0.8,
             "#7fbc41"
            ],
            [
             0.9,
             "#4d9221"
            ],
            [
             1,
             "#276419"
            ]
           ],
           "sequential": [
            [
             0,
             "#0d0887"
            ],
            [
             0.1111111111111111,
             "#46039f"
            ],
            [
             0.2222222222222222,
             "#7201a8"
            ],
            [
             0.3333333333333333,
             "#9c179e"
            ],
            [
             0.4444444444444444,
             "#bd3786"
            ],
            [
             0.5555555555555556,
             "#d8576b"
            ],
            [
             0.6666666666666666,
             "#ed7953"
            ],
            [
             0.7777777777777778,
             "#fb9f3a"
            ],
            [
             0.8888888888888888,
             "#fdca26"
            ],
            [
             1,
             "#f0f921"
            ]
           ],
           "sequentialminus": [
            [
             0,
             "#0d0887"
            ],
            [
             0.1111111111111111,
             "#46039f"
            ],
            [
             0.2222222222222222,
             "#7201a8"
            ],
            [
             0.3333333333333333,
             "#9c179e"
            ],
            [
             0.4444444444444444,
             "#bd3786"
            ],
            [
             0.5555555555555556,
             "#d8576b"
            ],
            [
             0.6666666666666666,
             "#ed7953"
            ],
            [
             0.7777777777777778,
             "#fb9f3a"
            ],
            [
             0.8888888888888888,
             "#fdca26"
            ],
            [
             1,
             "#f0f921"
            ]
           ]
          },
          "colorway": [
           "#636efa",
           "#EF553B",
           "#00cc96",
           "#ab63fa",
           "#FFA15A",
           "#19d3f3",
           "#FF6692",
           "#B6E880",
           "#FF97FF",
           "#FECB52"
          ],
          "font": {
           "color": "#2a3f5f"
          },
          "geo": {
           "bgcolor": "white",
           "lakecolor": "white",
           "landcolor": "#E5ECF6",
           "showlakes": true,
           "showland": true,
           "subunitcolor": "white"
          },
          "hoverlabel": {
           "align": "left"
          },
          "hovermode": "closest",
          "mapbox": {
           "style": "light"
          },
          "paper_bgcolor": "white",
          "plot_bgcolor": "#E5ECF6",
          "polar": {
           "angularaxis": {
            "gridcolor": "white",
            "linecolor": "white",
            "ticks": ""
           },
           "bgcolor": "#E5ECF6",
           "radialaxis": {
            "gridcolor": "white",
            "linecolor": "white",
            "ticks": ""
           }
          },
          "scene": {
           "xaxis": {
            "backgroundcolor": "#E5ECF6",
            "gridcolor": "white",
            "gridwidth": 2,
            "linecolor": "white",
            "showbackground": true,
            "ticks": "",
            "zerolinecolor": "white"
           },
           "yaxis": {
            "backgroundcolor": "#E5ECF6",
            "gridcolor": "white",
            "gridwidth": 2,
            "linecolor": "white",
            "showbackground": true,
            "ticks": "",
            "zerolinecolor": "white"
           },
           "zaxis": {
            "backgroundcolor": "#E5ECF6",
            "gridcolor": "white",
            "gridwidth": 2,
            "linecolor": "white",
            "showbackground": true,
            "ticks": "",
            "zerolinecolor": "white"
           }
          },
          "shapedefaults": {
           "line": {
            "color": "#2a3f5f"
           }
          },
          "ternary": {
           "aaxis": {
            "gridcolor": "white",
            "linecolor": "white",
            "ticks": ""
           },
           "baxis": {
            "gridcolor": "white",
            "linecolor": "white",
            "ticks": ""
           },
           "bgcolor": "#E5ECF6",
           "caxis": {
            "gridcolor": "white",
            "linecolor": "white",
            "ticks": ""
           }
          },
          "title": {
           "x": 0.05
          },
          "xaxis": {
           "automargin": true,
           "gridcolor": "white",
           "linecolor": "white",
           "ticks": "",
           "title": {
            "standoff": 15
           },
           "zerolinecolor": "white",
           "zerolinewidth": 2
          },
          "yaxis": {
           "automargin": true,
           "gridcolor": "white",
           "linecolor": "white",
           "ticks": "",
           "title": {
            "standoff": 15
           },
           "zerolinecolor": "white",
           "zerolinewidth": 2
          }
         }
        },
        "title": {
         "text": "NIH Toolbox Instruments --- > NDA structure"
        },
        "width": 700
       }
      },
      "text/html": [
       "<div>\n",
       "        \n",
       "        \n",
       "            <div id=\"5116d5d3-6330-4c0c-a22e-5c279e3dd5f3\" class=\"plotly-graph-div\" style=\"height:1500px; width:700px;\"></div>\n",
       "            <script type=\"text/javascript\">\n",
       "                require([\"plotly\"], function(Plotly) {\n",
       "                    window.PLOTLYENV=window.PLOTLYENV || {};\n",
       "                    \n",
       "                if (document.getElementById(\"5116d5d3-6330-4c0c-a22e-5c279e3dd5f3\")) {\n",
       "                    Plotly.newPlot(\n",
       "                        '5116d5d3-6330-4c0c-a22e-5c279e3dd5f3',\n",
       "                        [{\"link\": {\"source\": [0, 1, 2, 3, 4, 5, 6, 7, 8, 9, 10, 11, 12, 13, 14, 15, 16, 17, 18, 19, 20, 21, 22, 23, 24, 25, 26, 27, 28, 29, 30, 31, 32, 33, 34, 35, 36, 37, 38, 39, 40, 41, 42, 43, 44, 45, 46, 47, 48, 49, 50, 51, 52, 53, 54, 55, 56, 57, 58, 59, 60, 61, 62, 63, 64, 65, 66, 67, 68, 69, 70, 71, 72, 73, 74, 75, 76, 77, 78, 79, 80, 81, 82, 83, 84, 85, 86, 87, 88, 89, 90, 91, 92, 93, 94, 95, 96, 97, 98], \"target\": [99, 100, 101, 101, 101, 102, 102, 102, 102, 102, 102, 103, 103, 103, 104, 104, 105, 99, 99, 106, 99, 99, 106, 107, 107, 107, 108, 108, 109, 109, 109, 109, 109, 101, 104, 110, 110, 111, 111, 109, 112, 112, 113, 113, 112, 112, 114, 114, 115, 116, 116, 115, 115, 117, 117, 117, 118, 118, 118, 118, 118, 118, 119, 119, 109, 109, 109, 109, 109, 109, 120, 121, 122, 122, 122, 123, 123, 123, 123, 120, 101, 112, 112, 112, 102, 102, 102, 105, 109, 102, 102, 109, 109, 109, 109, 109, 124, 124, 124], \"value\": [5, 17, 13, 9, 15, 15, 20, 19, 31, 14, 14, 52, 62, 52, 17, 17, 20, 19, 20, 38, 16, 17, 15, 38, 54, 34, 17, 16, 19, 20, 19, 15, 13, 15, 17, 37, 49, 14, 17, 25, 19, 39, 230, 248, 9, 27, 111, 46, 17, 17, 15, 17, 15, 19, 21, 20, 16, 17, 15, 15, 12, 16, 252, 292, 28, 27, 23, 19, 23, 26, 12, 37, 18, 21, 17, 19, 20, 20, 20, 12, 5, 112, 65, 44, 5, 5, 5, 7, 6, 6, 6, 5, 5, 5, 5, 5, 6, 5, 5]}, \"node\": {\"label\": [\"Anxiety Summary Parent Report (3-7)\", \"Cognition Composite Scores\", \"NIH Toolbox 2-Minute Walk Endurance Test Age 3+ v2.0\", \"NIH Toolbox 4-Meter Walk Gait Speed Test Age 7+ v2.0\", \"NIH Toolbox 9-Hole Pegboard Dexterity Test Age 3+ v2.0\", \"NIH Toolbox Anger FF Ages 8-17 v2.0\", \"NIH Toolbox Anger Parent Report CAT Ages 8-12 v2.0\", \"NIH Toolbox Anger Parent Report FF Ages 3-7 v2.0\", \"NIH Toolbox Anger-Affect CAT Age 18+ v2.0\", \"NIH Toolbox Anger-Hostility FF Age 18+ v2.0\", \"NIH Toolbox Anger-Physical Aggression FF Age 18+ v2.0\", \"NIH Toolbox Dimensional Change Card Sort Test Age 12+ v2.1\", \"NIH Toolbox Dimensional Change Card Sort Test Ages 3-7 v2.1\", \"NIH Toolbox Dimensional Change Card Sort Test Ages 8-11 v2.1\", \"NIH Toolbox Emotional Support FF Age 18+ v2.0\", \"NIH Toolbox Emotional Support FF Ages 8-17 v2.0\", \"NIH Toolbox Empathic Behaviors Parent Report CAT Ages 3-12 v2.0\", \"NIH Toolbox Fear FF Ages 8-17 v2.0\", \"NIH Toolbox Fear Parent Report CAT Ages 8-12 v2.0\", \"NIH Toolbox Fear-Affect CAT Age 18+ v2.0\", \"NIH Toolbox Fear-Over Anxious Parent Report FF Ages 3-7 v2.0\", \"NIH Toolbox Fear-Separation Anxiety Parent Report FF Ages 3-7 v2.0\", \"NIH Toolbox Fear-Somatic Arousal FF Age 18+ v2.0\", \"NIH Toolbox Flanker Inhibitory Control and Attention Test Age 12+ v2.1\", \"NIH Toolbox Flanker Inhibitory Control and Attention Test Ages 3-7 v2.1\", \"NIH Toolbox Flanker Inhibitory Control and Attention Test Ages 8-11 v2.1\", \"NIH Toolbox Friendship FF Age 18+ v2.0\", \"NIH Toolbox Friendship FF Ages 8-17 v2.0\", \"NIH Toolbox General Life Satisfaction CAT Age 18+ v2.0\", \"NIH Toolbox General Life Satisfaction CAT Ages 13-17 v2.0\", \"NIH Toolbox General Life Satisfaction FF Ages 13-17 v2.0\", \"NIH Toolbox General Life Satisfaction FF Ages 8-12 v2.0\", \"NIH Toolbox General Life Satisfaction Parent Report FF Ages 3-12 v2.0\", \"NIH Toolbox Grip Strength Test Age 3+ v2.0\", \"NIH Toolbox Instrumental Support FF Age 18+ v2.0\", \"NIH Toolbox List Sorting Working Memory Test Age 7+ v2.1\", \"NIH Toolbox List Sorting Working Memory Test Ages 3-6 v2.1\", \"NIH Toolbox Loneliness FF Age 18+ v2.0\", \"NIH Toolbox Loneliness FF Ages 8-17 v2.0\", \"NIH Toolbox Meaning and Purpose CAT Age 18+ v2.0\", \"NIH Toolbox Odor Identification Test Age 10+ v2.0\", \"NIH Toolbox Odor Identification Test Ages 3-9 v2.0\", \"NIH Toolbox Oral Reading Recognition Test Age 3+ v2.0\", \"NIH Toolbox Oral Reading Recognition Test Age 3+ v2.1\", \"NIH Toolbox Pain Intensity FF Age 18+ v2.0\", \"NIH Toolbox Pain Interference CAT Age 18+ v2.0\", \"NIH Toolbox Pattern Comparison Processing Speed Test Age 7+ v2.1\", \"NIH Toolbox Pattern Comparison Processing Speed Test Ages 3 - 6 v2.1\", \"NIH Toolbox Peer Rejection Parent Report FF Ages 3-12 v2.0\", \"NIH Toolbox Perceived Hostility FF Age 18+ v2.0\", \"NIH Toolbox Perceived Hostility FF Ages 8-17 v2.0\", \"NIH Toolbox Perceived Rejection FF Age 18+ v2.0\", \"NIH Toolbox Perceived Rejection FF Ages 8-17 v2.0\", \"NIH Toolbox Perceived Stress FF Age 18+ v2.0\", \"NIH Toolbox Perceived Stress FF Ages 13-17 v2.0\", \"NIH Toolbox Perceived Stress Parent Report CAT Ages 8-12 v2.0\", \"NIH Toolbox Picture Sequence Memory Test Age 7 Form A v2.1\", \"NIH Toolbox Picture Sequence Memory Test Age 8+ Form A v2.1\", \"NIH Toolbox Picture Sequence Memory Test Age 8+ Form B v2.1\", \"NIH Toolbox Picture Sequence Memory Test Age 8+ Form C v2.1\", \"NIH Toolbox Picture Sequence Memory Test Ages 3-4 Form A v2.1\", \"NIH Toolbox Picture Sequence Memory Test Ages 5-6 Form A v2.1\", \"NIH Toolbox Picture Vocabulary Test Age 3+ v2.0\", \"NIH Toolbox Picture Vocabulary Test Age 3+ v2.1\", \"NIH Toolbox Positive Affect CAT Age 18+ v2.0\", \"NIH Toolbox Positive Affect CAT Ages 13-17 v2.0\", \"NIH Toolbox Positive Affect FF Ages 13-17 v2.0\", \"NIH Toolbox Positive Affect FF Ages 8-12 v2.0\", \"NIH Toolbox Positive Affect Parent Report CAT Ages 3-7 v2.0\", \"NIH Toolbox Positive Affect Parent Report CAT Ages 8-12 v2.0\", \"NIH Toolbox Positive Peer Interaction Parent Report FF Ages 3-12 v2.0\", \"NIH Toolbox Sadness CAT Age 18+ v2.0\", \"NIH Toolbox Sadness FF Ages 8-17 v2.0\", \"NIH Toolbox Sadness Parent Report CAT Ages 8-12 v2.0\", \"NIH Toolbox Sadness Parent Report FF Ages 3-7 v2.0\", \"NIH Toolbox Self-Efficacy CAT Age 18+ v2.0\", \"NIH Toolbox Self-Efficacy CAT Ages 13-17 v2.0\", \"NIH Toolbox Self-Efficacy CAT Ages 8-12 v2.0\", \"NIH Toolbox Self-Efficacy Parent Report CAT Ages 8-12 v2.0\", \"NIH Toolbox Social Withdrawal Parent Report FF Ages 3-12 v2.0\", \"NIH Toolbox Standing Balance Test Age 7+ v2.0\", \"NIH Toolbox Visual Acuity Test Age 8+ v2.0\", \"NIH Toolbox Visual Acuity Test Ages 3-7 v2.0\", \"NIH Toolbox Words-In-Noise Test Age 6+ v2.1\", \"Negative Affect Summary (13-17)\", \"Negative Affect Summary (18+)\", \"Negative Affect Summary (8-12)\", \"Negative Peer Relations Parent Report Summary (8-12)\", \"Negative Psychosocial Functioning Parent Report Summary (3-7)\", \"Negative Social Perception Summary (13-17)\", \"Negative Social Perception Summary (8-12)\", \"Psychological Well Being Parent Report Summary (3-7)\", \"Psychological Well Being Parent Report Summary (8-12)\", \"Psychological Well Being Summary (13-17)\", \"Psychological Well Being Summary (18+)\", \"Psychological Well Being Summary (8-12)\", \"Social Satisfaction Summary (13-17)\", \"Social Satisfaction Summary (18+)\", \"Social Satisfaction Summary (8-12)\", \"tlbx_fearanx01\", \"cogcomp01\", \"tlbx_motor01\", \"prang01\", \"dccs01\", \"tlbx_emsup01\", \"tlbx_empbeh01\", \"preda01\", \"flanker01\", \"tlbx_friend01\", \"tlbx_wellbeing01\", \"lswmt01\", \"prsi01\", \"tlbx_sensation01\", \"orrt01\", \"pcps01\", \"tlbx_rej01\", \"tlbx_perhost01\", \"pss01\", \"psm01\", \"tpvt01\", \"tlbx_socwit01\", \"predd01\", \"tlbx_sadness01\", \"self_effic01\", \"promisgl01\"], \"line\": {\"color\": \"black\", \"width\": 0.5}, \"pad\": 15, \"thickness\": 20}, \"type\": \"sankey\"}],\n",
       "                        {\"font\": {\"size\": 10}, \"height\": 1500, \"template\": {\"data\": {\"bar\": [{\"error_x\": {\"color\": \"#2a3f5f\"}, \"error_y\": {\"color\": \"#2a3f5f\"}, \"marker\": {\"line\": {\"color\": \"#E5ECF6\", \"width\": 0.5}}, \"type\": \"bar\"}], \"barpolar\": [{\"marker\": {\"line\": {\"color\": \"#E5ECF6\", \"width\": 0.5}}, \"type\": \"barpolar\"}], \"carpet\": [{\"aaxis\": {\"endlinecolor\": \"#2a3f5f\", \"gridcolor\": \"white\", \"linecolor\": \"white\", \"minorgridcolor\": \"white\", \"startlinecolor\": \"#2a3f5f\"}, \"baxis\": {\"endlinecolor\": \"#2a3f5f\", \"gridcolor\": \"white\", \"linecolor\": \"white\", \"minorgridcolor\": \"white\", \"startlinecolor\": \"#2a3f5f\"}, \"type\": \"carpet\"}], \"choropleth\": [{\"colorbar\": {\"outlinewidth\": 0, \"ticks\": \"\"}, \"type\": \"choropleth\"}], \"contour\": [{\"colorbar\": {\"outlinewidth\": 0, \"ticks\": \"\"}, \"colorscale\": [[0.0, \"#0d0887\"], [0.1111111111111111, \"#46039f\"], [0.2222222222222222, \"#7201a8\"], [0.3333333333333333, \"#9c179e\"], [0.4444444444444444, \"#bd3786\"], [0.5555555555555556, \"#d8576b\"], [0.6666666666666666, \"#ed7953\"], [0.7777777777777778, \"#fb9f3a\"], [0.8888888888888888, \"#fdca26\"], [1.0, \"#f0f921\"]], \"type\": \"contour\"}], \"contourcarpet\": [{\"colorbar\": {\"outlinewidth\": 0, \"ticks\": \"\"}, \"type\": \"contourcarpet\"}], \"heatmap\": [{\"colorbar\": {\"outlinewidth\": 0, \"ticks\": \"\"}, \"colorscale\": [[0.0, \"#0d0887\"], [0.1111111111111111, \"#46039f\"], [0.2222222222222222, \"#7201a8\"], [0.3333333333333333, \"#9c179e\"], [0.4444444444444444, \"#bd3786\"], [0.5555555555555556, \"#d8576b\"], [0.6666666666666666, \"#ed7953\"], [0.7777777777777778, \"#fb9f3a\"], [0.8888888888888888, \"#fdca26\"], [1.0, \"#f0f921\"]], \"type\": \"heatmap\"}], \"heatmapgl\": [{\"colorbar\": {\"outlinewidth\": 0, \"ticks\": \"\"}, \"colorscale\": [[0.0, \"#0d0887\"], [0.1111111111111111, \"#46039f\"], [0.2222222222222222, \"#7201a8\"], [0.3333333333333333, \"#9c179e\"], [0.4444444444444444, \"#bd3786\"], [0.5555555555555556, \"#d8576b\"], [0.6666666666666666, \"#ed7953\"], [0.7777777777777778, \"#fb9f3a\"], [0.8888888888888888, \"#fdca26\"], [1.0, \"#f0f921\"]], \"type\": \"heatmapgl\"}], \"histogram\": [{\"marker\": {\"colorbar\": {\"outlinewidth\": 0, \"ticks\": \"\"}}, \"type\": \"histogram\"}], \"histogram2d\": [{\"colorbar\": {\"outlinewidth\": 0, \"ticks\": \"\"}, \"colorscale\": [[0.0, \"#0d0887\"], [0.1111111111111111, \"#46039f\"], [0.2222222222222222, \"#7201a8\"], [0.3333333333333333, \"#9c179e\"], [0.4444444444444444, \"#bd3786\"], [0.5555555555555556, \"#d8576b\"], [0.6666666666666666, \"#ed7953\"], [0.7777777777777778, \"#fb9f3a\"], [0.8888888888888888, \"#fdca26\"], [1.0, \"#f0f921\"]], \"type\": \"histogram2d\"}], \"histogram2dcontour\": [{\"colorbar\": {\"outlinewidth\": 0, \"ticks\": \"\"}, \"colorscale\": [[0.0, \"#0d0887\"], [0.1111111111111111, \"#46039f\"], [0.2222222222222222, \"#7201a8\"], [0.3333333333333333, \"#9c179e\"], [0.4444444444444444, \"#bd3786\"], [0.5555555555555556, \"#d8576b\"], [0.6666666666666666, \"#ed7953\"], [0.7777777777777778, \"#fb9f3a\"], [0.8888888888888888, \"#fdca26\"], [1.0, \"#f0f921\"]], \"type\": \"histogram2dcontour\"}], \"mesh3d\": [{\"colorbar\": {\"outlinewidth\": 0, \"ticks\": \"\"}, \"type\": \"mesh3d\"}], \"parcoords\": [{\"line\": {\"colorbar\": {\"outlinewidth\": 0, \"ticks\": \"\"}}, \"type\": \"parcoords\"}], \"pie\": [{\"automargin\": true, \"type\": \"pie\"}], \"scatter\": [{\"marker\": {\"colorbar\": {\"outlinewidth\": 0, \"ticks\": \"\"}}, \"type\": \"scatter\"}], \"scatter3d\": [{\"line\": {\"colorbar\": {\"outlinewidth\": 0, \"ticks\": \"\"}}, \"marker\": {\"colorbar\": {\"outlinewidth\": 0, \"ticks\": \"\"}}, \"type\": \"scatter3d\"}], \"scattercarpet\": [{\"marker\": {\"colorbar\": {\"outlinewidth\": 0, \"ticks\": \"\"}}, \"type\": \"scattercarpet\"}], \"scattergeo\": [{\"marker\": {\"colorbar\": {\"outlinewidth\": 0, \"ticks\": \"\"}}, \"type\": \"scattergeo\"}], \"scattergl\": [{\"marker\": {\"colorbar\": {\"outlinewidth\": 0, \"ticks\": \"\"}}, \"type\": \"scattergl\"}], \"scattermapbox\": [{\"marker\": {\"colorbar\": {\"outlinewidth\": 0, \"ticks\": \"\"}}, \"type\": \"scattermapbox\"}], \"scatterpolar\": [{\"marker\": {\"colorbar\": {\"outlinewidth\": 0, \"ticks\": \"\"}}, \"type\": \"scatterpolar\"}], \"scatterpolargl\": [{\"marker\": {\"colorbar\": {\"outlinewidth\": 0, \"ticks\": \"\"}}, \"type\": \"scatterpolargl\"}], \"scatterternary\": [{\"marker\": {\"colorbar\": {\"outlinewidth\": 0, \"ticks\": \"\"}}, \"type\": \"scatterternary\"}], \"surface\": [{\"colorbar\": {\"outlinewidth\": 0, \"ticks\": \"\"}, \"colorscale\": [[0.0, \"#0d0887\"], [0.1111111111111111, \"#46039f\"], [0.2222222222222222, \"#7201a8\"], [0.3333333333333333, \"#9c179e\"], [0.4444444444444444, \"#bd3786\"], [0.5555555555555556, \"#d8576b\"], [0.6666666666666666, \"#ed7953\"], [0.7777777777777778, \"#fb9f3a\"], [0.8888888888888888, \"#fdca26\"], [1.0, \"#f0f921\"]], \"type\": \"surface\"}], \"table\": [{\"cells\": {\"fill\": {\"color\": \"#EBF0F8\"}, \"line\": {\"color\": \"white\"}}, \"header\": {\"fill\": {\"color\": \"#C8D4E3\"}, \"line\": {\"color\": \"white\"}}, \"type\": \"table\"}]}, \"layout\": {\"annotationdefaults\": {\"arrowcolor\": \"#2a3f5f\", \"arrowhead\": 0, \"arrowwidth\": 1}, \"coloraxis\": {\"colorbar\": {\"outlinewidth\": 0, \"ticks\": \"\"}}, \"colorscale\": {\"diverging\": [[0, \"#8e0152\"], [0.1, \"#c51b7d\"], [0.2, \"#de77ae\"], [0.3, \"#f1b6da\"], [0.4, \"#fde0ef\"], [0.5, \"#f7f7f7\"], [0.6, \"#e6f5d0\"], [0.7, \"#b8e186\"], [0.8, \"#7fbc41\"], [0.9, \"#4d9221\"], [1, \"#276419\"]], \"sequential\": [[0.0, \"#0d0887\"], [0.1111111111111111, \"#46039f\"], [0.2222222222222222, \"#7201a8\"], [0.3333333333333333, \"#9c179e\"], [0.4444444444444444, \"#bd3786\"], [0.5555555555555556, \"#d8576b\"], [0.6666666666666666, \"#ed7953\"], [0.7777777777777778, \"#fb9f3a\"], [0.8888888888888888, \"#fdca26\"], [1.0, \"#f0f921\"]], \"sequentialminus\": [[0.0, \"#0d0887\"], [0.1111111111111111, \"#46039f\"], [0.2222222222222222, \"#7201a8\"], [0.3333333333333333, \"#9c179e\"], [0.4444444444444444, \"#bd3786\"], [0.5555555555555556, \"#d8576b\"], [0.6666666666666666, \"#ed7953\"], [0.7777777777777778, \"#fb9f3a\"], [0.8888888888888888, \"#fdca26\"], [1.0, \"#f0f921\"]]}, \"colorway\": [\"#636efa\", \"#EF553B\", \"#00cc96\", \"#ab63fa\", \"#FFA15A\", \"#19d3f3\", \"#FF6692\", \"#B6E880\", \"#FF97FF\", \"#FECB52\"], \"font\": {\"color\": \"#2a3f5f\"}, \"geo\": {\"bgcolor\": \"white\", \"lakecolor\": \"white\", \"landcolor\": \"#E5ECF6\", \"showlakes\": true, \"showland\": true, \"subunitcolor\": \"white\"}, \"hoverlabel\": {\"align\": \"left\"}, \"hovermode\": \"closest\", \"mapbox\": {\"style\": \"light\"}, \"paper_bgcolor\": \"white\", \"plot_bgcolor\": \"#E5ECF6\", \"polar\": {\"angularaxis\": {\"gridcolor\": \"white\", \"linecolor\": \"white\", \"ticks\": \"\"}, \"bgcolor\": \"#E5ECF6\", \"radialaxis\": {\"gridcolor\": \"white\", \"linecolor\": \"white\", \"ticks\": \"\"}}, \"scene\": {\"xaxis\": {\"backgroundcolor\": \"#E5ECF6\", \"gridcolor\": \"white\", \"gridwidth\": 2, \"linecolor\": \"white\", \"showbackground\": true, \"ticks\": \"\", \"zerolinecolor\": \"white\"}, \"yaxis\": {\"backgroundcolor\": \"#E5ECF6\", \"gridcolor\": \"white\", \"gridwidth\": 2, \"linecolor\": \"white\", \"showbackground\": true, \"ticks\": \"\", \"zerolinecolor\": \"white\"}, \"zaxis\": {\"backgroundcolor\": \"#E5ECF6\", \"gridcolor\": \"white\", \"gridwidth\": 2, \"linecolor\": \"white\", \"showbackground\": true, \"ticks\": \"\", \"zerolinecolor\": \"white\"}}, \"shapedefaults\": {\"line\": {\"color\": \"#2a3f5f\"}}, \"ternary\": {\"aaxis\": {\"gridcolor\": \"white\", \"linecolor\": \"white\", \"ticks\": \"\"}, \"baxis\": {\"gridcolor\": \"white\", \"linecolor\": \"white\", \"ticks\": \"\"}, \"bgcolor\": \"#E5ECF6\", \"caxis\": {\"gridcolor\": \"white\", \"linecolor\": \"white\", \"ticks\": \"\"}}, \"title\": {\"x\": 0.05}, \"xaxis\": {\"automargin\": true, \"gridcolor\": \"white\", \"linecolor\": \"white\", \"ticks\": \"\", \"title\": {\"standoff\": 15}, \"zerolinecolor\": \"white\", \"zerolinewidth\": 2}, \"yaxis\": {\"automargin\": true, \"gridcolor\": \"white\", \"linecolor\": \"white\", \"ticks\": \"\", \"title\": {\"standoff\": 15}, \"zerolinecolor\": \"white\", \"zerolinewidth\": 2}}}, \"title\": {\"text\": \"NIH Toolbox Instruments --- > NDA structure\"}, \"width\": 700},\n",
       "                        {\"responsive\": true}\n",
       "                    ).then(function(){\n",
       "                            \n",
       "var gd = document.getElementById('5116d5d3-6330-4c0c-a22e-5c279e3dd5f3');\n",
       "var x = new MutationObserver(function (mutations, observer) {{\n",
       "        var display = window.getComputedStyle(gd).display;\n",
       "        if (!display || display === 'none') {{\n",
       "            console.log([gd, 'removed!']);\n",
       "            Plotly.purge(gd);\n",
       "            observer.disconnect();\n",
       "        }}\n",
       "}});\n",
       "\n",
       "// Listen for the removal of the full notebook cells\n",
       "var notebookContainer = gd.closest('#notebook-container');\n",
       "if (notebookContainer) {{\n",
       "    x.observe(notebookContainer, {childList: true});\n",
       "}}\n",
       "\n",
       "// Listen for the clearing of the current output cell\n",
       "var outputEl = gd.closest('.output');\n",
       "if (outputEl) {{\n",
       "    x.observe(outputEl, {childList: true});\n",
       "}}\n",
       "\n",
       "                        })\n",
       "                };\n",
       "                });\n",
       "            </script>\n",
       "        </div>"
      ]
     },
     "metadata": {},
     "output_type": "display_data"
    }
   ],
   "source": [
    "fig = go.Figure(data=[go.Sankey(\n",
    "    node = dict(\n",
    "      pad = 15,\n",
    "      thickness = 20,\n",
    "      line = dict(color = \"black\", width = 0.5),\n",
    "      label = nodes.label.to_list()#,\n",
    "      #color = [\"blue\",\"red\",\"green\",\"yellow\",\"brown\",\"black\"]\n",
    "    ),\n",
    "    link = dict(\n",
    "      source = links.Inst.to_list(), # indices correspond to labels, eg A1, A2, A2, B1, ...\n",
    "      target = links.nda_structure.to_list(),\n",
    "      value =  links.nda_element.to_list(),\n",
    "  ))])\n",
    "\n",
    "fig.update_layout(title_text=\"NIH Toolbox Instruments --- > NDA structure\", font_size=10,width=700,height=1500)\n",
    "fig.show()"
   ]
  },
  {
   "cell_type": "code",
   "execution_count": null,
   "metadata": {},
   "outputs": [],
   "source": []
  }
 ],
 "metadata": {
  "kernelspec": {
   "display_name": "PycharmToolbox",
   "language": "python",
   "name": "pycharmtoolbox"
  },
  "language_info": {
   "codemirror_mode": {
    "name": "ipython",
    "version": 3
   },
   "file_extension": ".py",
   "mimetype": "text/x-python",
   "name": "python",
   "nbconvert_exporter": "python",
   "pygments_lexer": "ipython3",
   "version": "3.6.7"
  }
 },
 "nbformat": 4,
 "nbformat_minor": 2
}
