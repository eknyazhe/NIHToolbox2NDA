{
 "cells": [
  {
   "cell_type": "markdown",
   "metadata": {},
   "source": [
    "# This Jupyter Notebook is written to convert Data and Scores files from NIH Toolbox IPAD exports into NDA data structures using linking information from a 'crosswalk' and extra NDA-required subject data from a csv."
   ]
  },
  {
   "cell_type": "markdown",
   "metadata": {},
   "source": [
    "Some Notes: \n",
    "using a specialty Python 3 virtual environment (named PycharmToolbox) as kernal for this notebook.\n",
    "Installed by running the following commands in my terminal and then switching the kernel with the dropdown menu above:\n",
    "> source /home/petra/.virtualenvs/PycharmToolbox/bin/activate\n",
    "> pip install ipykernel\n",
    "> ipython kernel install --user --name=PycharmToolbox\n",
    "> jupyter-notebook\n",
    "\n",
    "requirements file generated from within the activated virtual environment by:\n",
    "> pip freeze > requirements.txt \n"
   ]
  },
  {
   "cell_type": "code",
   "execution_count": null,
   "metadata": {},
   "outputs": [],
   "source": [
    "import os, datetime\n",
    "import pandas as pd\n",
    "import numpy as np\n",
    "\n",
    "snapshotdate = datetime.datetime.today().strftime('%m_%d_%Y')\n"
   ]
  },
  {
   "cell_type": "markdown",
   "metadata": {},
   "source": [
    "Specify the input and output data and paths for NIH toolbox.\n",
    "To run the cells of this notebook, you will need four files.\n",
    "\n",
    "Two are in the .csv format of the IPAD Toolbox applcation export.\n",
    "E.g. a raw Data file containing item level responses, and a Scores file, containing the summary statistics for the collection of item level data. We don't need the registration file.  These two files are linked by PIN and Inst variables, and must be cleaned a priori, to remove subjects that are in one but not the other file.  I.e. the list of unique PINs (ex. HCP0211999_V1) in one file should be exactly the same as the list of unique PINs in the other. For HCP data, we concatenate the exports of all subjects' Score data in to a single file, and the exports of all subjects Raw data into a second file.  Because all other sources of HCP data use 'subject' and 'visit' rather than a PIN which is a concatenation of both, we create these variables (subject and visit) from PIN prior to running this program as well.  \n",
    "\n",
    "The third necessary file is a csv containing the fields that NDA requires in all of their structures \n",
    "e.g. subjectkey (GUID or pseudo-GUID), src_subject_id (e.g. HCP0211999), interview_age (in months), and gender (misnomer for sex assigned at birth).  In HCP data, we link the two sources of information via 'subject' and 'visit.'  \n",
    "\n",
    "Lastly, read in the crosswalk file - which will map your vars to NDA after transpose is complete.  I have placed the crosswalk from HCPA as an example.  Any instruments in this crosswalk that are the same as yours (look at 'Inst' column) will work for you.  You will have to add any instruments not present, after obtaining variable maps and templates from the NDA for your particular set of NIH Toolbox Data.  \n",
    "\n",
    "Note that subject and visit are variables we created locally to merge with the data coming from a different local source (REDCap).  They are not variables that are output from the NIH Toolbox app on the Ipads, but are necessary for the merge with the NDA required fields stored elsewhere.\n"
   ]
  },
  {
   "cell_type": "code",
   "execution_count": null,
   "metadata": {},
   "outputs": [],
   "source": [
    "#path for formatted structures\n",
    "pathout=\"/home/petra/UbWinSharedSpace1/redcap2nda_Lifespan2019/NIH_toolbox_crosswalk_docs/HCPA/prepped_structures\""
   ]
  },
  {
   "cell_type": "code",
   "execution_count": null,
   "metadata": {},
   "outputs": [],
   "source": [
    "#csv scores and raw files for transformation - \n",
    "scoresD='/home/petra/UbWinSharedSpace1/boxtemp/HCAorBoth_Toolbox_Scored_Combined_12_17_2019.csv'\n",
    "rawD='/home/petra/UbWinSharedSpace1/boxtemp/HCAorBoth_Toolbox_Raw_Combined_12_17_2019.csv'"
   ]
  },
  {
   "cell_type": "code",
   "execution_count": null,
   "metadata": {
    "scrolled": true
   },
   "outputs": [],
   "source": [
    "#read into dataframe and take a peak\n",
    "scordata=pd.read_csv(scoresD,header=0,low_memory=False)\n",
    "scordata.head()"
   ]
  },
  {
   "cell_type": "code",
   "execution_count": null,
   "metadata": {},
   "outputs": [],
   "source": [
    "rawdata=pd.read_csv(rawD,header=0,low_memory=False)\n",
    "rawdata.head()"
   ]
  },
  {
   "cell_type": "code",
   "execution_count": null,
   "metadata": {},
   "outputs": [],
   "source": [
    "rawdata.columns #dont use gender from rawdata ... use gender from NDA specialty fields"
   ]
  },
  {
   "cell_type": "code",
   "execution_count": null,
   "metadata": {},
   "outputs": [],
   "source": [
    "#prep the fields that NDA requires in all of their structures - we did this in another program, since output is required elsewhere\n",
    "#here, just subsetting to particular study, renaming a few vars, and changing the date format\n",
    "subjectlist='/home/petra/UbWinSharedSpace1/redcap2nda_Lifespan2019/Dev_pedigrees/UnrelatedHCAHCD_w_STG_Image_and_pseudo_GUID09_27_2019.csv'\n",
    "subjects=pd.read_csv(subjectlist)[['subjectped','nda_gender', 'nda_guid', 'nda_interview_age', 'nda_interview_date']]\n",
    "ndar=subjects.loc[subjects.subjectped.str.contains('HCA')].rename(\n",
    "    columns={'nda_guid':'subjectkey','subjectped':'src_subject_id','nda_interview_age':'interview_age',\n",
    "             'nda_interview_date':'interview_date','nda_gender':'gender'}).copy()\n",
    "ndar['interview_date'] = pd.to_datetime(ndar['interview_date']).dt.strftime('%m/%d/%Y')\n",
    "ndarlist=['subjectkey','src_subject_id','interview_age','interview_date','gender']\n"
   ]
  },
  {
   "cell_type": "code",
   "execution_count": null,
   "metadata": {},
   "outputs": [],
   "source": [
    "#this is the list of variables in the scored and raw data files that you might need...\n",
    "#creating list in case your scored data is merged with other files for other reasons (ours was)\n",
    "scorlist=['Age-Corrected Standard Score', 'Age-Corrected Standard Scores Dominant',\n",
    " 'Age-Corrected Standard Scores Non-Dominant', 'AgeCorrCrystal', 'AgeCorrDCCS', 'AgeCorrEarly',\n",
    " 'AgeCorrEngRead', 'AgeCorrEngVocab', 'AgeCorrFlanker', 'AgeCorrFluid', 'AgeCorrListSort',\n",
    " 'AgeCorrPSM', 'AgeCorrPatternComp', 'AgeCorrTotal', 'Assessment Name', 'Computed Score',\n",
    " 'ComputedDCCS', 'ComputedEngRead', 'ComputedEngVocab', 'ComputedFlanker', 'ComputedPSM',\n",
    " 'ComputedPatternComp', 'DCCSaccuracy', 'DCCSreactiontime',  'Dominant Score', 'FlankerAccuracy',\n",
    " 'FlankerReactionTime', 'FullTCrystal', 'FullTDCCS', 'FullTEarly', 'FullTEngRead', 'FullTEngVocab',\n",
    " 'FullTFlanker', 'FullTFluid', 'FullTListSort', 'FullTPSM', 'FullTPatternComp', 'FullTTotal',\n",
    " 'Fully-Corrected T-score', 'Fully-Corrected T-scores Dominant', 'Fully-Corrected T-scores Non-Dominant',\n",
    " 'FullyCorrectedTscore', 'Group', 'Inst', 'InstrumentBreakoff', 'InstrumentRCReason', 'InstrumentRCReasonOther',\n",
    " 'InstrumentStatus2', 'ItmCnt', 'Language', 'Male', 'National Percentile (age adjusted)',\n",
    " 'National Percentile (age adjusted) Dominant', 'National Percentile (age adjusted) Non-Dominant',\n",
    " 'Non-Dominant Score', 'PIN', 'Raw Score Left Ear', 'Raw Score Right Ear', 'RawDCCS',\n",
    " 'RawFlanker', 'RawListSort', 'RawPSM', 'RawPatternComp', 'RawScore', 'SE', 'Static Visual Acuity Snellen',\n",
    " 'Static Visual Acuity logMAR', 'TScore', 'Theta', 'ThetaEngRead', 'ThetaEngVocab', 'ThetaPSM', 'Threshold Left Ear',\n",
    " 'Threshold Right Ear', 'UncorrCrystal', 'UncorrDCCS', 'UncorrEarly', 'UncorrEngRead', 'UncorrEngVocab',\n",
    " 'UncorrFlanker', 'UncorrFluid', 'UncorrListSort', 'UncorrPSM', 'UncorrPatternComp', 'UncorrTotal',\n",
    " 'Uncorrected Standard Score', 'Uncorrected Standard Scores Dominant', 'Uncorrected Standard Scores Non-Dominant',\n",
    " 'UncorrectedStandardScore']\n",
    "rawlist=['App Version', 'Assessment Name', 'DataType','DateCreated', 'DeviceID',  'Firmware Version',  \n",
    " 'Inst', 'InstEnded','InstEndedDatetime', 'InstOrdr', 'InstSctn', 'InstStarted','InstStartedDatetime',\n",
    " 'ItemID', 'ItmOrdr', 'Locale','PIN', 'Position', 'Response', 'ResponseTime', 'SE', 'Score', 'TScore',\n",
    " 'Theta','iPad Version']"
   ]
  },
  {
   "cell_type": "code",
   "execution_count": null,
   "metadata": {},
   "outputs": [],
   "source": [
    "#merge the score and raw data with the required fields for the NDA\n",
    "#Note that subject and visit are HCP specific variables that we use to subset the records being sent to the NDA\n",
    "#create dummy vars if you dont have them...\n",
    "#scordata['subject']=scordata.PIN #or some other variable in scordata that can be used to merge with ndarfields data\n",
    "#scordata['visit']='V1' #we keep this around because eventually we'll be releaseing V2,V3, and FU data\n",
    "#rawdata['subject']=rawdata.PIN\n",
    "#rawdata['visit']='V1'\n",
    "\n",
    "scordata=pd.merge(scordata[scorlist+['subject','visit']],ndar,how='inner',left_on='subject', right_on='src_subject_id')\n",
    "rawdata=pd.merge(rawdata[rawlist+['subject','visit']],ndar,how='inner',left_on='subject', right_on='src_subject_id')\n"
   ]
  },
  {
   "cell_type": "code",
   "execution_count": null,
   "metadata": {},
   "outputs": [],
   "source": [
    "#specify your crosswalk- take a peak\n",
    "crosswalkfile=\"/home/petra/UbWinSharedSpace1/redcap2nda_Lifespan2019/NIH_toolbox_crosswalk_docs/HCPA/NIH_Toolbox_crosswalk_HCPA_2020Jan6.csv\"\n",
    "crosswalk=pd.read_csv(crosswalkfile,header=0,low_memory=False, encoding = \"ISO-8859-1\")\n",
    "crosswalk.head()"
   ]
  },
  {
   "cell_type": "markdown",
   "metadata": {},
   "source": [
    "Do a little QC and data exploration"
   ]
  },
  {
   "cell_type": "code",
   "execution_count": null,
   "metadata": {
    "scrolled": true
   },
   "outputs": [],
   "source": [
    "#check that your instruments are in both raw data and scores files. \n",
    "#For HCP, all but the NIH Toolbox Pain Intensity FF Age 18+ v2.0 Instrument are practices\n",
    "#So only the Pain Intensity instrument needed special coding attention (to be dealt with later)\n",
    "#check your data and adjust if needed \n",
    "for i in rawdata.Inst.unique():\n",
    "    if i not in scordata.Inst.unique():\n",
    "        print(i)\n"
   ]
  },
  {
   "cell_type": "code",
   "execution_count": null,
   "metadata": {},
   "outputs": [],
   "source": [
    "#check that lengths are the same...indicating one to one PIN match between scores and raw\n",
    "print(len(rawdata.PIN.unique()))\n",
    "print(len(scordata.PIN.unique()))\n",
    "#check that shape is same before and after removing duplicates (should not be any)\n",
    "rawdata.shape\n",
    "scordata.shape\n",
    "print(rawdata.shape)\n",
    "print(scordata.shape)\n",
    "testraw=rawdata.drop_duplicates(subset={'PIN','Inst','ItemID','Position'},keep='first')\n",
    "testscore=scordata.drop_duplicates(subset={'PIN','Inst'})\n",
    "print(testraw.shape)\n",
    "print(testscore.shape)\n"
   ]
  },
  {
   "cell_type": "code",
   "execution_count": null,
   "metadata": {},
   "outputs": [],
   "source": [
    "#define the function that will turn a dataframe into a csv structure \n",
    "#- use the definition to send the pain data (which doesn't have entries in the scored data)\n",
    "def data2struct(patho,dout,crosssub,study='HCPD'):\n",
    "    \"\"\"\n",
    "    Convert dout, a prepared pandas dataframe, into a csv structure that NDA can import\n",
    "    \n",
    "    parameters: \n",
    "    patho - full path to place you want to store structures (there will be many)\n",
    "    dout - name of data frame that contains all the variables to be exported\n",
    "    crosssub - a dataframe which is the subset of the crosswalk for the instrument to be exported as structure\n",
    "    study - a string to put in the name of the csv file along with the structure name and the short name of the instrument\n",
    "    \n",
    "    note that snapshotdate is defined external to this funtion near import statments...     \n",
    "    \n",
    "    \"\"\"\n",
    "    strucroot=crosssub['nda_structure'].str.strip().str[:-2][0]\n",
    "    strucnum=crosssub['nda_structure'].str.strip().str[-2:][0]\n",
    "    instshort=crosssub['inst_short'].str.strip()[0]\n",
    "    filePath=os.path.join(pathout,study+'_'+instshort+'_'+strucroot+strucnum+'_'+snapshotdate+'.csv')\n",
    "    if os.path.exists(filePath):\n",
    "        os.remove(filePath)\n",
    "    else:\n",
    "        pass\n",
    "        #print(\"Can not delete the file as it doesn't exists\")\n",
    "    with open(filePath,'a') as f:\n",
    "        f.write(strucroot+\",\"+str(int(strucnum))+\"\\n\")\n",
    "        dout.to_csv(f,index=False)\n"
   ]
  },
  {
   "cell_type": "code",
   "execution_count": null,
   "metadata": {},
   "outputs": [],
   "source": [
    "#define the function that can be used for the instruments that follow more generalizable pattern\n",
    "#This function will alert you to any instruments that were successfully transformed but tha might warrent a closer look.\n",
    "def sendthroughcrosswalk(pathout,instreshapedfull,inst_i,crosswalk,studystr='HCPD'):\n",
    "    # replace special charaters in column names\n",
    "    instreshapedfull.columns = instreshapedfull.columns.str.replace(' ', '_').str.replace('-', '_').str.replace('(','_').str.replace(')', '_')\n",
    "    crosswalk_subset = crosswalk.loc[crosswalk['Inst'] == inst_i]\n",
    "    crosswalk_subset.reset_index(inplace=True)\n",
    "    # crosswalk_subset.loc[crosswalk_subset['hcp_variable_upload'].isnull()==False,'hcp_variable']\n",
    "    cwlistbef = list(crosswalk_subset['hcp_variable'])\n",
    "    before = len(cwlistbef)\n",
    "    cwlist = list(set(cwlistbef) & set(\n",
    "        instreshapedfull.columns))  # drop the handful of vars in larger instruments that got mapped but that we dont have\n",
    "    after = len(cwlist)\n",
    "    if before != after:\n",
    "        print(\"WARNING!!! \" + inst_i + \": Crosswalk expects \" + str(before) + \" elements, but only found \" + str(after))\n",
    "        notfound=list(np.setdiff1d(cwlistbef,cwlist))\n",
    "        print(\"Not Found:\"+ str(notfound))\n",
    "    studydata = instreshapedfull[ndarlist + cwlist].copy()\n",
    "    # execute any specialty codes\n",
    "    for index, row in crosswalk_subset.iterrows():\n",
    "        if pd.isna(row['requested_python']):\n",
    "            pass\n",
    "        else:\n",
    "            exec(row['requested_python'])\n",
    "    uploadlist = list(crosswalk_subset['hcp_variable_upload'])\n",
    "    uploadlist = list(set(uploadlist) & set(studydata.columns))\n",
    "    data2struct(patho=pathout, dout=studydata[ndarlist + uploadlist], crosssub=crosswalk_subset, study=studystr)\n",
    "\n"
   ]
  },
  {
   "cell_type": "markdown",
   "metadata": {},
   "source": [
    "Do special cases first"
   ]
  },
  {
   "cell_type": "code",
   "execution_count": null,
   "metadata": {},
   "outputs": [],
   "source": [
    "#Within the rawdata structure (for HCP), all but the NIH Toolbox Pain Intensity FF Age 18+ v2.0 Instrument are practices\n",
    "#So only the Pain Intensity instrument needed special coding attention\n",
    "#check your data and adjust if needed - note that subject and visit are variables we created locally \n",
    "#to merge with the data coming from a different local source (REDCap)\n",
    "#create the NDA structure for this special case\n",
    "inst_i='NIH Toolbox Pain Intensity FF Age 18+ v2.0'\n",
    "#most of the rows contain duplicated information...only need to know the PIN once, for example, not once for each item response\n",
    "# so values in the response column need to be pivoted and then merged with the rest of the data, \n",
    "paindata=rawdata.loc[rawdata.Inst==inst_i][['PIN','subject','Inst','visit','ItemID','Position',\n",
    "        'subjectkey','src_subject_id','interview_age','interview_date','gender',\n",
    "        'Response','ResponseTime', 'SE', 'Score', 'TScore','Theta']]\n",
    "paindata.ItemID = paindata.ItemID.str.lower().str.replace('-','_').str.replace('(','_').str.replace(')','_')\n",
    "inst = paindata.pivot(index='PIN', columns='ItemID', values='Response').reset_index()\n",
    "meta = paindata.drop_duplicates(subset=['PIN', 'visit'])\n",
    "painreshaped = pd.merge(meta, inst, on='PIN', how='inner').drop(columns={'subject','visit','PIN'})\n",
    "crosswalk_subset=crosswalk.loc[crosswalk['Inst']==inst_i]\n",
    "crosswalk_subset.reset_index(inplace=True)\n",
    "cwlist=list(crosswalk_subset['hcp_variable'])\n",
    "reshapedslim=painreshaped[ndarlist+cwlist]\n",
    "data2struct(patho=pathout,dout=reshapedslim,crosssub=crosswalk_subset,study='HCPA')\n"
   ]
  },
  {
   "cell_type": "code",
   "execution_count": null,
   "metadata": {},
   "outputs": [],
   "source": [
    "# Another special case is for Cognition Composite scores - going to cogcomp01 structure at the NDA- \n",
    "# This was mapped before Leo agreed to accept data by NIH Toolbox Instrument name (pivot by Inst)\n",
    "# keeping this special case codeing in for posterity and to shed light on one type of merge he must do on his end, \n",
    "# when it comes to NIH toolbox data\n",
    "cogcompdata=scordata.loc[scordata.Inst.str.contains('Cognition')==True][['PIN','Language',\n",
    "    'Assessment Name','Inst',  'Uncorrected Standard Score', 'Age-Corrected Standard Score',\n",
    "    'National Percentile (age adjusted)', 'Fully-Corrected T-score']+ndarlist]\n",
    "\n",
    "#initialize prefix\n",
    "cogcompdata['varprefix']='test'\n",
    "cogcompdata.loc[cogcompdata.Inst=='Cognition Crystallized Composite v1.1','varprefix']='nih_crystalcogcomp_'\n",
    "cogcompdata.loc[cogcompdata.Inst=='Cognition Early Childhood Composite v1.1','varprefix']='nih_eccogcomp_'\n",
    "cogcompdata.loc[cogcompdata.Inst=='Cognition Fluid Composite v1.1','varprefix']='nih_fluidcogcomp_'\n",
    "cogcompdata.loc[cogcompdata.Inst=='Cognition Total Composite Score v1.1','varprefix']='nih_totalcogcomp_'\n",
    "#pivot the vars of interest by varprefix and rename\n",
    "uncorr=cogcompdata.pivot(index='PIN',columns='varprefix',values='Uncorrected Standard Score')\n",
    "for col in uncorr.columns.values:\n",
    "    uncorr=uncorr.rename(columns={col:col+\"unadjusted\"})\n",
    "ageadj=cogcompdata.pivot(index='PIN',columns='varprefix',values='Age-Corrected Standard Score')\n",
    "for col in ageadj.columns.values:\n",
    "    ageadj=ageadj.rename(columns={col:col+\"ageadj\"})\n",
    "npage=cogcompdata.pivot(index='PIN',columns='varprefix',values='National Percentile (age adjusted)')\n",
    "for col in npage.columns.values:\n",
    "    npage=npage.rename(columns={col:col+\"np_ageadj\"})\n",
    "#put them together\n",
    "cogcompreshape=pd.concat([uncorr,ageadj,npage],axis=1)\n",
    "meta=cogcompdata[['PIN','Language','Assessment Name']+ndarlist].drop_duplicates(subset={'PIN'})\n",
    "meta['nih_crystalcogcomp']='Cognition Crystallized Composite v1.1'\n",
    "meta['nih_eccogcomp']='Cognition Early Childhood Composite v1.1'\n",
    "meta['nih_fluidcogcomp']='Cognition Fluid Composite v1.1'\n",
    "meta['nih_totalcogcomp']='Cognition Total Composite Score v1.1'\n",
    "cogcompreshape=pd.merge(meta,cogcompreshape,on='PIN',how='inner')\n",
    "\n",
    "inst_i='Cognition Composite Scores'\n",
    "sendthroughcrosswalk(pathout,cogcompreshape,inst_i,crosswalk)\n"
   ]
  },
  {
   "cell_type": "code",
   "execution_count": null,
   "metadata": {},
   "outputs": [],
   "source": [
    "#Last special Case is for Visual Acuity, which needs double pivot because of repeat items at different positions\n",
    "#This special case not yet mapped by NDA - so don't run, but will look something like this\n",
    "#special case for instruments with \"Visual Acuity\" in their titles, which have dup inst/itemid at diff positions\n",
    "#for i in scordata.Inst.unique():\n",
    "#    if i in rawdata.Inst.unique():\n",
    "#        inst_i=i\n",
    "#        if \"Visual Acuity\" in inst_i:\n",
    "#            print('Processing ' + inst_i + '...')\n",
    "#                items=rawdata.loc[rawdata.Inst.str.contains('Visual Acuity')][['PIN','subject','Inst',\n",
    "#                   'gender','visit','ItemID','Position','Response']]\n",
    "#                items.ItemID = items.ItemID.str.lower()\n",
    "#                items['dup_number']=items.groupby(['PIN','ItemID']).cumcount()+1\n",
    "#                items['ItemID_Dup']=items.ItemID.str.replace('|', '_') + '_P'+items.dup_number.astype(str)\n",
    "#                inst=items.pivot(index='PIN',columns='ItemID_Dup',values='Response')\n",
    "#                meta = items.drop_duplicates(subset=['PIN', 'visit'])[['Inst', 'PIN', \n",
    "#                                                               'subject', 'visit']]\n",
    "#                instreshaped = pd.merge(meta, inst, on='PIN', how='inner')\n",
    "#                items2 = scordata.loc[scordata.Inst == inst_i]\n",
    "#                instreshapedfull = pd.merge(instreshaped, items2, on='PIN', how='inner')"
   ]
  },
  {
   "cell_type": "code",
   "execution_count": null,
   "metadata": {},
   "outputs": [],
   "source": [
    "#for non-special instruments in both scores and raw data types\n",
    "for i in scordata.Inst.unique():\n",
    "    if i in rawdata.Inst.unique():\n",
    "        inst_i=i\n",
    "        if \"Visual Acuity\" in inst_i:\n",
    "            pass  #special case--see below\n",
    "        elif \"Practice\" in inst_i:\n",
    "            print(\"Note:  Omitting practice instrument, \"+inst_i)\n",
    "        else:\n",
    "            try:  #this will fail if there are duplicates or if no-one has the data of interest (e.g. idlist too small), or if only V2 instrument\n",
    "                #print('Processing '+inst_i+'...')\n",
    "                items=rawdata.loc[rawdata.Inst==inst_i][['PIN','subject','Inst','visit','ItemID','Position',\n",
    "                   'subjectkey','src_subject_id','interview_age','interview_date','gender',\n",
    "                   'Response','ResponseTime']]# not these..., 'SE', 'Score', 'TScore','Theta']]\n",
    "                items.ItemID = items.ItemID.str.lower().str.replace('-','_').str.replace('(','_').str.replace(')','_').str.replace(' ','_')\n",
    "                inst=items.pivot(index='PIN',columns='ItemID',values='Response').reset_index()\n",
    "                meta=items.drop_duplicates(subset=['PIN','visit'])\n",
    "                instreshaped = pd.merge(meta, inst, on='PIN', how='inner').drop(columns={'subject', 'visit','Inst'})\n",
    "                items2=scordata.loc[scordata.Inst==inst_i][scorlist]\n",
    "                instreshapedfull=pd.merge(instreshaped,items2,on='PIN',how='inner')\n",
    "                sendthroughcrosswalk(pathout,instreshapedfull, inst_i, crosswalk,studystr='HCPA')\n",
    "            except:\n",
    "                print('Couldnt process '+inst_i+'...')\n",
    "\n"
   ]
  },
  {
   "cell_type": "code",
   "execution_count": null,
   "metadata": {},
   "outputs": [],
   "source": []
  }
 ],
 "metadata": {
  "kernelspec": {
   "display_name": "PycharmToolbox",
   "language": "python",
   "name": "pycharmtoolbox"
  },
  "language_info": {
   "codemirror_mode": {
    "name": "ipython",
    "version": 3
   },
   "file_extension": ".py",
   "mimetype": "text/x-python",
   "name": "python",
   "nbconvert_exporter": "python",
   "pygments_lexer": "ipython3",
   "version": "3.6.7"
  }
 },
 "nbformat": 4,
 "nbformat_minor": 2
}
